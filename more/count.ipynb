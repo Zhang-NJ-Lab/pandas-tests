{
 "cells": [
  {
   "cell_type": "code",
   "execution_count": 2,
   "id": "052fc9f9-9f72-41ca-be0a-0b90452fe313",
   "metadata": {},
   "outputs": [
    {
     "data": {
      "text/html": [
       "<div>\n",
       "<style scoped>\n",
       "    .dataframe tbody tr th:only-of-type {\n",
       "        vertical-align: middle;\n",
       "    }\n",
       "\n",
       "    .dataframe tbody tr th {\n",
       "        vertical-align: top;\n",
       "    }\n",
       "\n",
       "    .dataframe thead th {\n",
       "        text-align: right;\n",
       "    }\n",
       "</style>\n",
       "<table border=\"1\" class=\"dataframe\">\n",
       "  <thead>\n",
       "    <tr style=\"text-align: right;\">\n",
       "      <th></th>\n",
       "      <th>Multiwall open-end and closed carbon nanotubes with the wall thickness from several to more than 100 carbon layers were produced by a principally new method— hydrothermal synthesis—using polyethylene/water mixtures in the presence of nickel at 700–800 °C under 60–100 MPa pressure. An important feature of hydrothermal nanotubes is a small wall thickness, which is about 10% of the large inner diameter of 20–800 nm. Closed nanotubes were leak-tight by virtue of holding encapsulated water at high vacuum and can be used as test tubes for in situ experiments in transmission electron microscope (TEM). Raman microspectroscopy analysis of single nanotubes shows a well-ordered graphitic structure, in agreement with high-resolution TEM. The hydrothermal synthesis has the potential for producing multiwall nanotubes for a variety of applications. The fabrication of nanotubes under hydrothermal conditions may explain their presence in coals and carbonaceous rocks and suggests that they should be present in natural graphite deposits formed under hydrothermal conditions.</th>\n",
       "    </tr>\n",
       "  </thead>\n",
       "  <tbody>\n",
       "    <tr>\n",
       "      <th>0</th>\n",
       "      <td>Poly(2,6-benzothiazole) (ABPBT), poly(2,5-benz...</td>\n",
       "    </tr>\n",
       "    <tr>\n",
       "      <th>1</th>\n",
       "      <td>We report experimental results that help settl...</td>\n",
       "    </tr>\n",
       "    <tr>\n",
       "      <th>2</th>\n",
       "      <td>For diamond synthesis with gaseous reaction, c...</td>\n",
       "    </tr>\n",
       "    <tr>\n",
       "      <th>3</th>\n",
       "      <td>Electroluminescence (EL) is the most significa...</td>\n",
       "    </tr>\n",
       "    <tr>\n",
       "      <th>4</th>\n",
       "      <td>Advanced materials processing involves active ...</td>\n",
       "    </tr>\n",
       "    <tr>\n",
       "      <th>...</th>\n",
       "      <td>...</td>\n",
       "    </tr>\n",
       "    <tr>\n",
       "      <th>3561</th>\n",
       "      <td>A novel concept of field aided lateral crystal...</td>\n",
       "    </tr>\n",
       "    <tr>\n",
       "      <th>3562</th>\n",
       "      <td>The primary coolant system of a nuclear power ...</td>\n",
       "    </tr>\n",
       "    <tr>\n",
       "      <th>3563</th>\n",
       "      <td>Multiwall open-end and closed carbon nanotubes...</td>\n",
       "    </tr>\n",
       "    <tr>\n",
       "      <th>3564</th>\n",
       "      <td>Poly(2,6-benzothiazole) (ABPBT), poly(2,5-benz...</td>\n",
       "    </tr>\n",
       "    <tr>\n",
       "      <th>3565</th>\n",
       "      <td>We report experimental results that help settl...</td>\n",
       "    </tr>\n",
       "  </tbody>\n",
       "</table>\n",
       "<p>3566 rows × 1 columns</p>\n",
       "</div>"
      ],
      "text/plain": [
       "     Multiwall open-end and closed carbon nanotubes with the wall thickness from several to more than 100 carbon layers were produced by a principally new method— hydrothermal synthesis—using polyethylene/water mixtures in the presence of nickel at 700–800 °C under 60–100 MPa pressure. An important feature of hydrothermal nanotubes is a small wall thickness, which is about 10% of the large inner diameter of 20–800 nm. Closed nanotubes were leak-tight by virtue of holding encapsulated water at high vacuum and can be used as test tubes for in situ experiments in transmission electron microscope (TEM). Raman microspectroscopy analysis of single nanotubes shows a well-ordered graphitic structure, in agreement with high-resolution TEM. The hydrothermal synthesis has the potential for producing multiwall nanotubes for a variety of applications. The fabrication of nanotubes under hydrothermal conditions may explain their presence in coals and carbonaceous rocks and suggests that they should be present in natural graphite deposits formed under hydrothermal conditions.\n",
       "0     Poly(2,6-benzothiazole) (ABPBT), poly(2,5-benz...                                                                                                                                                                                                                                                                                                                                                                                                                                                                                                                                                                                                                                                                                                                                                                                                                                                                                                                                                                                                                                                             \n",
       "1     We report experimental results that help settl...                                                                                                                                                                                                                                                                                                                                                                                                                                                                                                                                                                                                                                                                                                                                                                                                                                                                                                                                                                                                                                                             \n",
       "2     For diamond synthesis with gaseous reaction, c...                                                                                                                                                                                                                                                                                                                                                                                                                                                                                                                                                                                                                                                                                                                                                                                                                                                                                                                                                                                                                                                             \n",
       "3     Electroluminescence (EL) is the most significa...                                                                                                                                                                                                                                                                                                                                                                                                                                                                                                                                                                                                                                                                                                                                                                                                                                                                                                                                                                                                                                                             \n",
       "4     Advanced materials processing involves active ...                                                                                                                                                                                                                                                                                                                                                                                                                                                                                                                                                                                                                                                                                                                                                                                                                                                                                                                                                                                                                                                             \n",
       "...                                                 ...                                                                                                                                                                                                                                                                                                                                                                                                                                                                                                                                                                                                                                                                                                                                                                                                                                                                                                                                                                                                                                                             \n",
       "3561  A novel concept of field aided lateral crystal...                                                                                                                                                                                                                                                                                                                                                                                                                                                                                                                                                                                                                                                                                                                                                                                                                                                                                                                                                                                                                                                             \n",
       "3562  The primary coolant system of a nuclear power ...                                                                                                                                                                                                                                                                                                                                                                                                                                                                                                                                                                                                                                                                                                                                                                                                                                                                                                                                                                                                                                                             \n",
       "3563  Multiwall open-end and closed carbon nanotubes...                                                                                                                                                                                                                                                                                                                                                                                                                                                                                                                                                                                                                                                                                                                                                                                                                                                                                                                                                                                                                                                             \n",
       "3564  Poly(2,6-benzothiazole) (ABPBT), poly(2,5-benz...                                                                                                                                                                                                                                                                                                                                                                                                                                                                                                                                                                                                                                                                                                                                                                                                                                                                                                                                                                                                                                                             \n",
       "3565  We report experimental results that help settl...                                                                                                                                                                                                                                                                                                                                                                                                                                                                                                                                                                                                                                                                                                                                                                                                                                                                                                                                                                                                                                                             \n",
       "\n",
       "[3566 rows x 1 columns]"
      ]
     },
     "execution_count": 2,
     "metadata": {},
     "output_type": "execute_result"
    }
   ],
   "source": [
    "import pandas as pd\n",
    "\n",
    "ab = pd.read_table(\"2000-SprNat-MatSci.txt\") # 这个是带有标题的文件\n",
    "ab"
   ]
  },
  {
   "cell_type": "code",
   "execution_count": null,
   "id": "edeba111-16d6-41fd-9280-18a5ace1624f",
   "metadata": {},
   "outputs": [],
   "source": []
  }
 ],
 "metadata": {
  "kernelspec": {
   "display_name": "NJmatML",
   "language": "python",
   "name": "njmatml"
  },
  "language_info": {
   "codemirror_mode": {
    "name": "ipython",
    "version": 3
   },
   "file_extension": ".py",
   "mimetype": "text/x-python",
   "name": "python",
   "nbconvert_exporter": "python",
   "pygments_lexer": "ipython3",
   "version": "3.8.8"
  }
 },
 "nbformat": 4,
 "nbformat_minor": 5
}
